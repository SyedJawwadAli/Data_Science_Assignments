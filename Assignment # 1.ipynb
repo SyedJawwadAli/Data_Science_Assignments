{
 "cells": [
  {
   "cell_type": "code",
   "execution_count": 1,
   "metadata": {},
   "outputs": [
    {
     "name": "stdout",
     "output_type": "stream",
     "text": [
      "\t\t\t\t\tTwinkle, twinkle, little star,\n",
      "\t\t\t\t\t\tHow I wonder what you are!\n",
      "\t\t\t\t\t\t\tUp above the world so high,\n",
      "\t\t\t\t\t\t\tLike a diamond in the sky.\n",
      "\t\t\t\t\tTwinkle, twinkle, little star,\n",
      "\t\t\t\t\t\tHow I wonder what you are\n"
     ]
    }
   ],
   "source": [
    "S = \"\\t\\t\\t\\t\\tTwinkle, twinkle, little star,\\n\\t\\t\\t\\t\\t\\tHow I wonder what you are!\\n\\t\\t\\t\\t\\t\\t\\tUp above the world so high,\\n\\t\\t\\t\\t\\t\\t\\tLike a diamond in the sky.\\n\\t\\t\\t\\t\\tTwinkle, twinkle, little star,\\n\\t\\t\\t\\t\\t\\tHow I wonder what you are\"\n",
    "print (S)"
   ]
  },
  {
   "cell_type": "code",
   "execution_count": 2,
   "metadata": {},
   "outputs": [
    {
     "name": "stdout",
     "output_type": "stream",
     "text": [
      "Python version 3.8.5 (default, Sep  3 2020, 21:29:08) [MSC v.1916 64 bit (AMD64)]\n"
     ]
    }
   ],
   "source": [
    "import sys\n",
    "print (\"Python version\", sys.version)"
   ]
  },
  {
   "cell_type": "code",
   "execution_count": 3,
   "metadata": {},
   "outputs": [
    {
     "name": "stdout",
     "output_type": "stream",
     "text": [
      "Current date and time : 2022-01-04 00:00:00\n"
     ]
    }
   ],
   "source": [
    "import datetime\n",
    "now = datetime.datetime.now()\n",
    "print (\"Current date and time :\", now.strftime(\"%Y-%m-%d %H:%M:%S\"))"
   ]
  },
  {
   "cell_type": "code",
   "execution_count": 4,
   "metadata": {},
   "outputs": [
    {
     "name": "stdout",
     "output_type": "stream",
     "text": [
      "Enter the radius of the circle : 5\n",
      "The area of the circle with radius 5.0 is : 78.53981633974483\n"
     ]
    }
   ],
   "source": [
    "from math import pi\n",
    "R = float(input (\"Enter the radius of the circle : \"))\n",
    "print (\"The area of the circle with radius \" + str(R) + \" is : \" + str(pi * R**2))"
   ]
  },
  {
   "cell_type": "code",
   "execution_count": 5,
   "metadata": {},
   "outputs": [
    {
     "name": "stdout",
     "output_type": "stream",
     "text": [
      "Enter your First Name : S.\n",
      "Enter your Last Name : Jawwad Ali\n",
      "Hi ! Jawwad Ali S.\n"
     ]
    }
   ],
   "source": [
    "First_Name = input(\"Enter your First Name : \")\n",
    "Last_Name = input(\"Enter your Last Name : \")\n",
    "print (\"Hi ! \" + Last_Name + \" \" + First_Name)"
   ]
  },
  {
   "cell_type": "code",
   "execution_count": 6,
   "metadata": {},
   "outputs": [
    {
     "name": "stdout",
     "output_type": "stream",
     "text": [
      "Enter your First Name : S.\n",
      "Enter your Last Name : Jawwad Ali\n",
      "Your Full Name is : S. Jawwad Ali\n"
     ]
    }
   ],
   "source": [
    "Input_1 = (input(\"Enter your First Name : \"))\n",
    "Input_2 = (input(\"Enter your Last Name : \"))\n",
    "print (\"Your Full Name is : \" + Input_1 + \" \" + Input_2)"
   ]
  },
  {
   "cell_type": "code",
   "execution_count": null,
   "metadata": {},
   "outputs": [],
   "source": []
  }
 ],
 "metadata": {
  "kernelspec": {
   "display_name": "Python 3",
   "language": "python",
   "name": "python3"
  },
  "language_info": {
   "codemirror_mode": {
    "name": "ipython",
    "version": 3
   },
   "file_extension": ".py",
   "mimetype": "text/x-python",
   "name": "python",
   "nbconvert_exporter": "python",
   "pygments_lexer": "ipython3",
   "version": "3.8.5"
  }
 },
 "nbformat": 4,
 "nbformat_minor": 4
}
